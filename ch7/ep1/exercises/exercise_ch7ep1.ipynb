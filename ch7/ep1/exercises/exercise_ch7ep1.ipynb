{
 "cells": [
  {
   "cell_type": "code",
   "execution_count": 1,
   "metadata": {},
   "outputs": [
    {
     "name": "stderr",
     "output_type": "stream",
     "text": [
      "22/06/21 13:15:53 WARN Utils: Your hostname, mecha-peach resolves to a loopback address: 127.0.1.1; using 172.26.47.238 instead (on interface eth0)\n",
      "22/06/21 13:15:53 WARN Utils: Set SPARK_LOCAL_IP if you need to bind to another address\n",
      "WARNING: An illegal reflective access operation has occurred\n",
      "WARNING: Illegal reflective access by org.apache.spark.unsafe.Platform (file:/home/jessgschu/data-engineering-bootcamp/workspace/ch7/ep1/venv/lib/python3.7/site-packages/pyspark/jars/spark-unsafe_2.12-3.1.2.jar) to constructor java.nio.DirectByteBuffer(long,int)\n",
      "WARNING: Please consider reporting this to the maintainers of org.apache.spark.unsafe.Platform\n",
      "WARNING: Use --illegal-access=warn to enable warnings of further illegal reflective access operations\n",
      "WARNING: All illegal access operations will be denied in a future release\n",
      "22/06/21 13:15:54 WARN NativeCodeLoader: Unable to load native-hadoop library for your platform... using builtin-java classes where applicable\n",
      "Using Spark's default log4j profile: org/apache/spark/log4j-defaults.properties\n",
      "Setting default log level to \"WARN\".\n",
      "To adjust logging level use sc.setLogLevel(newLevel). For SparkR, use setLogLevel(newLevel).\n"
     ]
    }
   ],
   "source": [
    "import pyspark\n",
    "sc = pyspark.SparkContext('local[*]')"
   ]
  },
  {
   "cell_type": "code",
   "execution_count": 41,
   "metadata": {},
   "outputs": [
    {
     "name": "stdout",
     "output_type": "stream",
     "text": [
      "Total rows: 25\n",
      "PythonRDD[204] at RDD at PythonRDD.scala:53\n",
      "[('apple', 4), ('apple', 1), ('apple', 1), ('apple', 1), ('apple', 4), ('apple', 5), ('apple', 5), ('apple', 1), ('apple', 4)]\n",
      "[('banana', 2.0), ('apple', 2.888888888888889), ('cherry', 2.7142857142857144)]\n"
     ]
    }
   ],
   "source": [
    "fruit_list = [\n",
    "('apple',4),\n",
    "('cherry',1),\n",
    "('apple',1),\n",
    "('apple',1),\n",
    "('cherry',4),\n",
    "('apple',1),\n",
    "('cherry',3),\n",
    "('apple',4),\n",
    "('cherry',4),\n",
    "('cherry',2),\n",
    "('apple',5),\n",
    "('apple',5),\n",
    "('cherry',4),\n",
    "('banana',2),\n",
    "('apple',1),\n",
    "('cherry',3),\n",
    "('cherry',5),\n",
    "('banana',2),\n",
    "('cherry',1),\n",
    "('cherry',2),\n",
    "('apple',4),\n",
    "('cherry',2),\n",
    "('cherry',2),\n",
    "('cherry',1),\n",
    "('cherry',4),\n",
    "]\n",
    "\n",
    "fruit_rdd = sc.parallelize(fruit_list)\n",
    "print(f'Total rows: {fruit_rdd.count()}')\n",
    "print(fruit_rdd.mapValues(sum))\n",
    "print(fruit_rdd.filter(lambda x: x[0] == 'apple').collect())\n",
    "\n",
    "\n",
    "fruit_list_sum = fruit_rdd.groupByKey().mapValues(lambda x: sum(x)/len(x)).collect()\n",
    "print(fruit_list_sum)\n"
   ]
  },
  {
   "cell_type": "code",
   "execution_count": 51,
   "metadata": {},
   "outputs": [
    {
     "data": {
      "text/plain": [
       "[('id', {'name': 'name', 'rgb': 'rgb', 'is_trans': 'is_trans'}),\n",
       " ('-1', {'name': 'Unknown', 'rgb': '0033B2', 'is_trans': 'f'}),\n",
       " ('0', {'name': 'Black', 'rgb': '05131D', 'is_trans': 'f'}),\n",
       " ('1', {'name': 'Blue', 'rgb': '0055BF', 'is_trans': 'f'}),\n",
       " ('2', {'name': 'Green', 'rgb': '237841', 'is_trans': 'f'}),\n",
       " ('3', {'name': 'Dark Turquoise', 'rgb': '008F9B', 'is_trans': 'f'}),\n",
       " ('4', {'name': 'Red', 'rgb': 'C91A09', 'is_trans': 'f'}),\n",
       " ('5', {'name': 'Dark Pink', 'rgb': 'C870A0', 'is_trans': 'f'}),\n",
       " ('6', {'name': 'Brown', 'rgb': '583927', 'is_trans': 'f'}),\n",
       " ('7', {'name': 'Light Gray', 'rgb': '9BA19D', 'is_trans': 'f'})]"
      ]
     },
     "execution_count": 51,
     "metadata": {},
     "output_type": "execute_result"
    }
   ],
   "source": [
    "import csv\n",
    "from io import StringIO\n",
    "from typing import Tuple\n",
    "\n",
    "def row_split(text_row):\n",
    "    reader = csv.reader(StringIO(text_row), delimiter=',')\n",
    "    for row_list in reader:\n",
    "        return row_list\n",
    "\n",
    "def dict_map(lego_list):\n",
    "    return lego_list[0], {'name': lego_list[1],\n",
    "    'rgb': lego_list[2],\n",
    "    'is_trans': lego_list[3]\n",
    "    } \n",
    "\n",
    "\n",
    "legotxt = sc.textFile('data/colors.csv')\n",
    "lego_dict = legotxt.map(row_split).map(dict_map)\n",
    "lego_dict.take(10)\n"
   ]
  }
 ],
 "metadata": {
  "kernelspec": {
   "display_name": "Python 3.7.13 ('venv': venv)",
   "language": "python",
   "name": "python3"
  },
  "language_info": {
   "codemirror_mode": {
    "name": "ipython",
    "version": 3
   },
   "file_extension": ".py",
   "mimetype": "text/x-python",
   "name": "python",
   "nbconvert_exporter": "python",
   "pygments_lexer": "ipython3",
   "version": "3.7.13"
  },
  "orig_nbformat": 4,
  "vscode": {
   "interpreter": {
    "hash": "f91f842a14674893d6f1bca9d6b0c4deeb06fb6e1b0514963dc77d4068ba8222"
   }
  }
 },
 "nbformat": 4,
 "nbformat_minor": 2
}
